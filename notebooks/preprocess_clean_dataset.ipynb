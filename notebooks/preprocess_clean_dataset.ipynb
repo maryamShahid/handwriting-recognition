{
 "cells": [
  {
   "cell_type": "code",
   "execution_count": 38,
   "metadata": {},
   "outputs": [],
   "source": [
    "import numpy as np\n",
    "import pandas as pd\n",
    "import cv2\n",
    "import os\n",
    "import matplotlib.pyplot as plt"
   ]
  },
  {
   "cell_type": "code",
   "execution_count": 39,
   "metadata": {},
   "outputs": [],
   "source": [
    "train = pd.read_csv('written_name_train_v2.csv')\n",
    "valid = pd.read_csv('written_name_validation_v2.csv')\n",
    "test = pd.read_csv('written_name_test_v2.csv')\n",
    "\n",
    "train_errors = np.loadtxt('train/errored.txt', dtype=str)\n",
    "valid_errors = np.loadtxt('validation/errored.txt', dtype=str)\n",
    "test_errors = np.loadtxt('test/errored.txt', dtype=str)"
   ]
  },
  {
   "cell_type": "code",
   "execution_count": 40,
   "metadata": {},
   "outputs": [],
   "source": [
    "train.dropna(axis=0, inplace=True)\n",
    "valid.dropna(axis=0, inplace=True)\n",
    "test.dropna(axis=0, inplace=True)\n",
    "train = train[train['IDENTITY'] != 'UNREADABLE']\n",
    "valid = valid[valid['IDENTITY'] != 'UNREADABLE']\n",
    "test = test[test['IDENTITY'] != 'UNREADABLE']\n",
    "train['IDENTITY'] = train['IDENTITY'].str.upper()\n",
    "valid['IDENTITY'] = valid['IDENTITY'].str.upper()\n",
    "test['IDENTITY'] = test['IDENTITY'].str.upper()\n",
    "train = train[~train.FILENAME.isin(train_errors)]\n",
    "valid = valid[~valid.FILENAME.isin(valid_errors)]\n",
    "test = test[~test.FILENAME.isin(test_errors)]\n",
    "train.reset_index(inplace = True, drop=True) \n",
    "valid.reset_index(inplace = True, drop=True)\n",
    "test.reset_index(inplace = True, drop=True)"
   ]
  },
  {
   "cell_type": "code",
   "execution_count": 41,
   "metadata": {},
   "outputs": [],
   "source": [
    "train_size = len(train)\n",
    "valid_size= len(valid)\n",
    "test_size= len(test)"
   ]
  },
  {
   "cell_type": "code",
   "execution_count": 42,
   "metadata": {},
   "outputs": [],
   "source": [
    "def preprocess(img):\n",
    "    (h, w) = img.shape\n",
    "    image = np.ones([64, 256])*255\n",
    "    \n",
    "    if w > 256:\n",
    "        img = img[:, :256]\n",
    "    if h > 64:\n",
    "        img = img[:64, :]\n",
    "    \n",
    "    (h, w) = img.shape\n",
    "    if w >= 246 or h >= 54:\n",
    "        image[:h, :w] = img\n",
    "    else:\n",
    "        image[10: h + 10, 10: w + 10] = img\n",
    "        \n",
    "    return cv2.rotate(image, cv2.ROTATE_90_CLOCKWISE)"
   ]
  },
  {
   "cell_type": "code",
   "execution_count": 43,
   "metadata": {},
   "outputs": [],
   "source": [
    "def transform_image(dir, filename, save_dir):\n",
    "    image = cv2.imread(dir + filename.replace('.jpg', '') + '_cropped.jpg', cv2.IMREAD_GRAYSCALE)\n",
    "    image = preprocess(image)\n",
    "    image = image/255.\n",
    "    plt.imsave(os.path.join(save_dir , filename), image)\n"
   ]
  },
  {
   "cell_type": "code",
   "execution_count": 44,
   "metadata": {},
   "outputs": [],
   "source": [
    "for i in range(train_size):\n",
    "    transform_image('train/', train.loc[i, 'FILENAME'], 'D:/ML Project/gpu_acceleration/processed_train/')"
   ]
  },
  {
   "cell_type": "code",
   "execution_count": 45,
   "metadata": {},
   "outputs": [],
   "source": [
    "for i in range(valid_size):\n",
    "    transform_image('validation/', valid.loc[i, 'FILENAME'], 'D:/ML Project/gpu_acceleration/processed_valid/')"
   ]
  },
  {
   "cell_type": "code",
   "execution_count": 46,
   "metadata": {},
   "outputs": [],
   "source": [
    "for i in range(test_size):\n",
    "    transform_image('test/', test.loc[i, 'FILENAME'], 'D:/ML Project/gpu_acceleration/processed_test/')"
   ]
  },
  {
   "cell_type": "code",
   "execution_count": 47,
   "metadata": {},
   "outputs": [],
   "source": [
    "train.to_csv('preprocessed_train.csv', index=False)\n",
    "valid.to_csv('preprocessed_valid.csv', index=False)\n",
    "test.to_csv('preprocessed_test.csv', index=False)"
   ]
  }
 ],
 "metadata": {
  "interpreter": {
   "hash": "8ae356e75d36f58ae0a0fbe212380b20cef846d46894bb949c9e4d7fe5e6076c"
  },
  "kernelspec": {
   "display_name": "Python 3.9.7 64-bit ('tf-gpu': conda)",
   "language": "python",
   "name": "python3"
  },
  "language_info": {
   "codemirror_mode": {
    "name": "ipython",
    "version": 3
   },
   "file_extension": ".py",
   "mimetype": "text/x-python",
   "name": "python",
   "nbconvert_exporter": "python",
   "pygments_lexer": "ipython3",
   "version": "3.9.7"
  },
  "orig_nbformat": 4
 },
 "nbformat": 4,
 "nbformat_minor": 2
}
